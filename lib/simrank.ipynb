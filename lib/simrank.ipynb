{
 "cells": [
  {
   "cell_type": "code",
   "execution_count": 2,
   "metadata": {
    "collapsed": true
   },
   "outputs": [],
   "source": [
    "import numpy as np\n",
    "import pandas as pd"
   ]
  },
  {
   "cell_type": "code",
   "execution_count": 9,
   "metadata": {
    "collapsed": true
   },
   "outputs": [],
   "source": [
    "def simrank(dense_mat, maxIteration = 30, C1 = 0.8):\n",
    "    '''\n",
    "    Parameter\n",
    "    ---------\n",
    "    dense_mat: has the shape of # of users * # of movies.\n",
    "    maxIteration : is the # of iteration for simrank to converage usually the algrithm converges fast.\n",
    "    C1: is the rate of decay\n",
    "    '''\n",
    "\n",
    "    import numpy as np\n",
    "    import pandas as pd\n",
    "    n_users, n_movies = dense_mat.shape\n",
    "    nodesnum = n_users + n_movies\n",
    "    trans_mat = np.zeros((nodesnum,nodesnum))\n",
    "    trans_mat[0:n_users,n_users:nodesnum]= dense_mat\n",
    "    trans_mat[n_users:nodesnum,0:n_users] = dense_mat.T\n",
    "    trans_mat = trans_mat/trans_mat.sum(axis=0)[None,:]\n",
    "    sim_mat = np.identity(nodesnum) \n",
    "    for i in range(maxIteration):\n",
    "        sim_mat = C1 * np.dot(np.dot(trans_mat.transpose(),sim_mat), trans_mat)\n",
    "        np.fill_diagonal(sim_mat, 1)\n",
    "        sim_mat[sim_mat < 0.001] = 0\n",
    "        if i == (maxIteration-1):\n",
    "           sim_mat = sim_mat[0:n_users,0:n_users]\n",
    "    return sim_mat"
   ]
  },
  {
   "cell_type": "code",
   "execution_count": 4,
   "metadata": {},
   "outputs": [],
   "source": [
    "    train_data = pd.read_csv('eachmovie_sample/data_train.csv',usecols=[\"Movie\",\"User\",\"Score\"])\n",
    "    test_data  = pd.read_csv('eachmovie_sample/data_test.csv',usecols=[\"Movie\",\"User\",\"Score\"])"
   ]
  },
  {
   "cell_type": "code",
   "execution_count": 5,
   "metadata": {
    "collapsed": true
   },
   "outputs": [],
   "source": [
    "all_user = np.union1d(train_data[\"User\"],test_data[\"User\"])\n",
    "all_movie = np.union1d(train_data[\"Movie\"],test_data[\"Movie\"])\n",
    "n_users = len(all_user)\n",
    "n_items = len(all_movie)"
   ]
  },
  {
   "cell_type": "code",
   "execution_count": 20,
   "metadata": {},
   "outputs": [
    {
     "name": "stdout",
     "output_type": "stream",
     "text": [
      "[74338 74352 74353 74364 74397 74404 74406 74409 74413 74418]\n",
      "5055\n"
     ]
    }
   ],
   "source": [
    "print(all_user[5045:5055])\n",
    "print(n_users)"
   ]
  },
  {
   "cell_type": "code",
   "execution_count": 6,
   "metadata": {
    "collapsed": true
   },
   "outputs": [],
   "source": [
    "train_data_matrix = np.zeros((n_users, n_items))\n",
    "for line in train_data.itertuples():\n",
    "    train_data_matrix[np.where(all_user==line[2])[0]-1, np.where(all_movie == line[1])[0]-1] = line[3]"
   ]
  },
  {
   "cell_type": "code",
   "execution_count": 11,
   "metadata": {},
   "outputs": [],
   "source": [
    "simRank_mat = simrank(dense_mat = train_data_matrix, maxIteration = 6, C1 = 0.8)"
   ]
  },
  {
   "cell_type": "code",
   "execution_count": 12,
   "metadata": {},
   "outputs": [
    {
     "data": {
      "text/plain": [
       "array([[ 1.        ,  0.0035649 ,  0.0040816 ,  0.00283111,  0.00338412,\n",
       "         0.0029632 ,  0.00313826,  0.0041328 ,  0.00402742,  0.00351471],\n",
       "       [ 0.0035649 ,  1.        ,  0.00447321,  0.00289915,  0.00359946,\n",
       "         0.00256775,  0.0031872 ,  0.00404047,  0.00365069,  0.00388182],\n",
       "       [ 0.0040816 ,  0.00447321,  1.        ,  0.00307308,  0.0041983 ,\n",
       "         0.0028037 ,  0.00348562,  0.00533163,  0.0047115 ,  0.00568684],\n",
       "       [ 0.00283111,  0.00289915,  0.00307308,  1.        ,  0.0031657 ,\n",
       "         0.00273563,  0.00279493,  0.00304786,  0.00309204,  0.00322311],\n",
       "       [ 0.00338412,  0.00359946,  0.0041983 ,  0.0031657 ,  1.        ,\n",
       "         0.00267358,  0.00302725,  0.00396417,  0.0033216 ,  0.00375447],\n",
       "       [ 0.0029632 ,  0.00256775,  0.0028037 ,  0.00273563,  0.00267358,\n",
       "         1.        ,  0.00243679,  0.00308419,  0.00280306,  0.00269564],\n",
       "       [ 0.00313826,  0.0031872 ,  0.00348562,  0.00279493,  0.00302725,\n",
       "         0.00243679,  1.        ,  0.00347303,  0.00352281,  0.00361837],\n",
       "       [ 0.0041328 ,  0.00404047,  0.00533163,  0.00304786,  0.00396417,\n",
       "         0.00308419,  0.00347303,  1.        ,  0.00492947,  0.00536411],\n",
       "       [ 0.00402742,  0.00365069,  0.0047115 ,  0.00309204,  0.0033216 ,\n",
       "         0.00280306,  0.00352281,  0.00492947,  1.        ,  0.00476403],\n",
       "       [ 0.00351471,  0.00388182,  0.00568684,  0.00322311,  0.00375447,\n",
       "         0.00269564,  0.00361837,  0.00536411,  0.00476403,  1.        ]])"
      ]
     },
     "execution_count": 12,
     "metadata": {},
     "output_type": "execute_result"
    }
   ],
   "source": [
    "simRank_mat[0:10, 0:10]"
   ]
  },
  {
   "cell_type": "code",
   "execution_count": 13,
   "metadata": {
    "collapsed": true
   },
   "outputs": [],
   "source": [
    "simRank1 = pd.DataFrame(simRank_mat)\n",
    "simRank1.to_csv(path_or_buf = \"simRank0.csv\")"
   ]
  },
  {
   "cell_type": "code",
   "execution_count": 30,
   "metadata": {},
   "outputs": [
    {
     "data": {
      "text/plain": [
       "(5055, 5055)"
      ]
     },
     "execution_count": 30,
     "metadata": {},
     "output_type": "execute_result"
    }
   ],
   "source": [
    "simRank1.shape"
   ]
  }
 ],
 "metadata": {
  "kernelspec": {
   "display_name": "Python 3",
   "language": "python",
   "name": "python3"
  },
  "language_info": {
   "codemirror_mode": {
    "name": "ipython",
    "version": 3
   },
   "file_extension": ".py",
   "mimetype": "text/x-python",
   "name": "python",
   "nbconvert_exporter": "python",
   "pygments_lexer": "ipython3",
   "version": "3.6.2"
  }
 },
 "nbformat": 4,
 "nbformat_minor": 2
}
